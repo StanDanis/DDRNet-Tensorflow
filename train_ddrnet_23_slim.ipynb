{
 "cells": [
  {
   "cell_type": "code",
   "execution_count": 1,
   "id": "3442fb31",
   "metadata": {},
   "outputs": [],
   "source": [
    "from ddrnet_23_slim import DualResNet_imagenet, DualResNet\n",
    "import numpy as np\n",
    "import keras\n",
    "import tensorflow as tf\n",
    "import sys\n",
    "from Utility import *\n",
    "from tensorflow.data import AUTOTUNE\n",
    "from Dataset_helper import *\n",
    "from tensorflow.keras.preprocessing.image import load_img, img_to_array\n",
    "from focal_loss import SparseCategoricalFocalLoss"
   ]
  },
  {
   "cell_type": "code",
   "execution_count": 3,
   "id": "46bb131e",
   "metadata": {},
   "outputs": [
    {
     "name": "stdout",
     "output_type": "stream",
     "text": [
      "Num GPUs Available:  1\n"
     ]
    }
   ],
   "source": [
    "print(\"Num GPUs Available: \", len(tf.config.list_physical_devices('GPU')))"
   ]
  },
  {
   "cell_type": "code",
   "execution_count": 4,
   "id": "3243af95",
   "metadata": {},
   "outputs": [],
   "source": [
    "image_path = \"D:/VUT_FSI/Magister/00_Diplomka/SegNet-Tensorflow/dataset/photo_7678\"\n",
    "mask_path = \"D:/okk/mask_1d\""
   ]
  },
  {
   "cell_type": "code",
   "execution_count": 5,
   "id": "955a0b88",
   "metadata": {},
   "outputs": [],
   "source": [
    "def load_dataset(path, size):\n",
    "    \n",
    "    def load_images_from_file(image_path, size):\n",
    "    \n",
    "        image = tf.io.read_file(image_path, name='image')\n",
    "        image = tf.image.decode_jpeg(image, channels=3, dct_method='INTEGER_ACCURATE')\n",
    "        image = tf.image.resize(image, size=size, method=tf.image.ResizeMethod.NEAREST_NEIGHBOR) / 255\n",
    "        image = tf.cast(image, 'float32')\n",
    "\n",
    "        return image\n",
    "    \n",
    "    def load_mask_from_file(mask_path, size):\n",
    "    \n",
    "        mask = tf.io.read_file(mask_path)\n",
    "        mask = tf.image.decode_png(mask, channels=3)\n",
    "        mask = (tf.image.resize(mask, size=size, method=tf.image.ResizeMethod.NEAREST_NEIGHBOR) / 255) * 12\n",
    "        mask = mask[:,:,0]\n",
    "        mask = tf.cast(tf.math.round(mask), 'uint8')\n",
    "\n",
    "        return mask\n",
    "\n",
    "    image_path = path[0]\n",
    "    mask_path = path[1]\n",
    "    \n",
    "    image = load_images_from_file(image_path, size)\n",
    "    mask = load_mask_from_file(mask_path, size)\n",
    "    \n",
    "#     print(mask_path)\n",
    "    \n",
    "    \n",
    "    return image, mask"
   ]
  },
  {
   "cell_type": "code",
   "execution_count": 6,
   "id": "c7aac1d4",
   "metadata": {},
   "outputs": [],
   "source": [
    "def augment_using_layers(images, mask, size=None):\n",
    "    \n",
    "    if size is None:\n",
    "        h_s = mask.shape[0]\n",
    "        w_s = mask.shape[1]\n",
    "    else:\n",
    "        h_s = size[0]\n",
    "        w_s = size[1]\n",
    "    \n",
    "    def aug(height=h_s, width=w_s):\n",
    "\n",
    "        flip = tf.keras.layers.RandomFlip(mode=\"horizontal\")\n",
    "        \n",
    "        rota = tf.keras.layers.RandomRotation(0.2, fill_mode='constant')\n",
    "        \n",
    "        zoom = tf.keras.layers.RandomZoom(\n",
    "                            height_factor=(-0.05, -0.3),\n",
    "                            fill_mode='wrap',\n",
    "                            interpolation='nearest'\n",
    "                            )\n",
    "        \n",
    "        trans = tf.keras.layers.RandomTranslation(height_factor=(-0.1, 0.1),\n",
    "                                            width_factor=(-0.1, 0.1), \n",
    "                                            fill_mode='constant')\n",
    "        \n",
    "        crop = tf.keras.layers.RandomCrop(h_s, w_s)\n",
    "        \n",
    "        layers = [flip, zoom, crop]\n",
    "        aug_model = tf.keras.Sequential(layers)\n",
    "\n",
    "        return aug_model\n",
    "    \n",
    "    bright = tf.keras.layers.RandomContrast(factor=0.8)\n",
    "    \n",
    "    aug = aug()\n",
    "    \n",
    "    mask = tf.stack([mask, mask, mask], -1)\n",
    "    mask = tf.cast(mask, 'float32')\n",
    "\n",
    "    images_mask = tf.concat([images, mask], -1)  \n",
    "    images_mask = aug(images_mask)  \n",
    "    \n",
    "    image = images_mask[:,:,0:3]\n",
    "    mask = images_mask[:,:,4]\n",
    "    \n",
    "    return bright(image), tf.cast(mask, 'uint8')"
   ]
  },
  {
   "cell_type": "code",
   "execution_count": 7,
   "id": "fa0629da",
   "metadata": {
    "scrolled": false
   },
   "outputs": [
    {
     "name": "stdout",
     "output_type": "stream",
     "text": [
      "--------------------------------------------------\n",
      "Train data: 3494\n",
      "Val data: 1164\n",
      "Test data: 1166\n",
      "--------------------------------------------------\n",
      "--------------------------------------------------\n",
      "Number of same samples between train, val and test dataset 0\n",
      "--------------------------------------------------\n",
      "Return order: images_train, masks_train, images_val, masks_val, image_test, mask_test\n",
      "--------------------------------------------------\n",
      "Number of samples from input data: 5824\n",
      "Number of samples after split: 5824\n",
      "--------------------------------------------------\n"
     ]
    }
   ],
   "source": [
    "img_all = load_data(image_path, \n",
    "                    mask_path, \n",
    "                    split=True,\n",
    "                    per_split=[0.6, 0.2, 0.2],\n",
    "                    seed=4232,\n",
    "                    format=['.jpg', '.png'])\n",
    "\n",
    "img_train, mask_train, img_val, mask_val, img_test, mask_test = img_all"
   ]
  },
  {
   "cell_type": "code",
   "execution_count": 8,
   "id": "727e464a",
   "metadata": {
    "scrolled": false
   },
   "outputs": [
    {
     "name": "stdout",
     "output_type": "stream",
     "text": [
      "[INFO] creating a tf.data train input pipeline..\n",
      "[INFO] creating a tf.data val input pipeline..\n",
      "[INFO] creating a tf.data test input pipeline..\n"
     ]
    }
   ],
   "source": [
    "IMAGE_SIZE = (720, 1280)\n",
    "MASK_SIZE = IMAGE_SIZE\n",
    "\n",
    "BS = 15\n",
    "\n",
    "paired_train = pair_correct(img_train, mask_train, two_in_one=True)\n",
    "paired_val = pair_correct(img_val, mask_val, two_in_one=True)\n",
    "paired_test = pair_correct(img_test, mask_test, two_in_one=True)\n",
    "\n",
    "print(\"[INFO] creating a tf.data train input pipeline..\")\n",
    "dataset_train = tf.data.Dataset.from_tensor_slices(paired_train)\n",
    "dataset_train = (dataset_train\n",
    "                .shuffle(len(paired_train))\n",
    "                .map(lambda x: load_dataset(x, IMAGE_SIZE), num_parallel_calls=AUTOTUNE)\n",
    "                .cache()\n",
    "                .map(lambda x, y: augment_using_layers(x, y, MASK_SIZE),\n",
    "                        num_parallel_calls=AUTOTUNE)\n",
    "                .batch(BS)\n",
    "                .prefetch(AUTOTUNE)\n",
    "                \n",
    ")\n",
    "\n",
    "print(\"[INFO] creating a tf.data val input pipeline..\")\n",
    "dataset_val = tf.data.Dataset.from_tensor_slices(paired_val)\n",
    "dataset_val = (dataset_val\n",
    "                .map(lambda x: load_dataset(x, MASK_SIZE), num_parallel_calls=AUTOTUNE)\n",
    "                .batch(BS)\n",
    "                .prefetch(AUTOTUNE)\n",
    ")\n",
    "\n",
    "print(\"[INFO] creating a tf.data test input pipeline..\")\n",
    "dataset_test = tf.data.Dataset.from_tensor_slices(paired_test)\n",
    "dataset_test = (dataset_test\n",
    "                .map(lambda x: load_dataset(x, MASK_SIZE), num_parallel_calls=AUTOTUNE)\n",
    "                .batch(BS)\n",
    "                .prefetch(AUTOTUNE)\n",
    ")"
   ]
  },
  {
   "cell_type": "code",
   "execution_count": null,
   "id": "b16f2ac8",
   "metadata": {
    "scrolled": true
   },
   "outputs": [],
   "source": [
    "def flatten(t):\n",
    "    return [item for sublist in t for item in sublist]\n",
    "\n",
    "for image, mask in dataset_test.take(1):\n",
    "    sample_image, sample_mask = image, mask\n",
    "    \n",
    "display_list = [[sample_image[i], sample_mask[i]] for i in range(0,BS)]\n",
    "display_list = flatten(display_list)\n",
    "\n",
    "\n",
    "display_images(display_list[0:10], title=['img', 'mask'], style='2column')"
   ]
  },
  {
   "cell_type": "code",
   "execution_count": 9,
   "id": "25e7e160",
   "metadata": {},
   "outputs": [],
   "source": [
    "class UpdatedMeanIoU(tf.keras.metrics.MeanIoU):\n",
    "    def __init__(self,\n",
    "               y_true=None,\n",
    "               y_pred=None,\n",
    "               num_classes=None,\n",
    "               name=None,\n",
    "               dtype=None):\n",
    "        super(UpdatedMeanIoU, self).__init__(num_classes = num_classes,name=name, dtype=dtype)\n",
    "\n",
    "    def update_state(self, y_true, y_pred, sample_weight=None):\n",
    "        y_pred = tf.math.argmax(y_pred, axis=-1)\n",
    "        return super().update_state(y_true, y_pred, sample_weight)\n",
    "    \n",
    "    def get_config(self):\n",
    "        config = super().get_config().copy()\n",
    "        return config"
   ]
  },
  {
   "cell_type": "code",
   "execution_count": 10,
   "id": "49ba21c5",
   "metadata": {
    "scrolled": true
   },
   "outputs": [],
   "source": [
    "# create model\n",
    "MODEL_IMG_SIZE = (list((MASK_SIZE)) + [3])\n",
    "BATCH_SIZE=None\n",
    "NUM_CLASS = 12\n",
    "\n",
    "\n",
    "METRICS = [ tf.metrics.SparseCategoricalAccuracy(name='sparseCatAcc'),\n",
    "            UpdatedMeanIoU(num_classes=12, name='mIoU'),\n",
    "#             tfa.metrics.F1Score(num_class=12)\n",
    "          ]\n",
    "\n",
    "model, pre_model = DualResNet_imagenet(shape=MODEL_IMG_SIZE, \n",
    "                                       batch=BATCH_SIZE, \n",
    "                                       num_class=NUM_CLASS, \n",
    "                                       softmax_act=True)\n",
    "    \n",
    "pre_model.trainable = False\n",
    "\n",
    "\n",
    "model.compile(optimizer=tf.keras.optimizers.Adam(learning_rate=0.01),\n",
    "              loss=SparseCategoricalFocalLoss(gamma=5), \n",
    "              metrics=METRICS,\n",
    "             )"
   ]
  },
  {
   "cell_type": "code",
   "execution_count": 19,
   "id": "dacbf2a4",
   "metadata": {},
   "outputs": [],
   "source": [
    "lear_schedule = tf.keras.callbacks.LearningRateScheduler(\n",
    "                lambda epoch: 1e-3 * 10 ** (epoch / 30)\n",
    "                )\n",
    "\n",
    "CALLBACKS = [lear_schedule]"
   ]
  },
  {
   "cell_type": "code",
   "execution_count": null,
   "id": "0fa86a02",
   "metadata": {
    "collapsed": true
   },
   "outputs": [],
   "source": [
    "# training\n",
    "epochs = 1\n",
    "model_history33 = model_336.fit(dataset_train, \n",
    "                          epochs=epochs, \n",
    "                          validation_data=dataset_val)"
   ]
  },
  {
   "cell_type": "code",
   "execution_count": 42,
   "id": "02caa1b9",
   "metadata": {
    "collapsed": true
   },
   "outputs": [
    {
     "data": {
      "text/plain": [
       "(-0.5, 599.5, 335.5, -0.5)"
      ]
     },
     "execution_count": 42,
     "metadata": {},
     "output_type": "execute_result"
    },
    {
     "data": {
      "image/png": "[encoded data removed]",
      "text/plain": [
       "<Figure size 1200x1200 with 1 Axes>"
      ]
     },
     "metadata": {
      "needs_background": "light"
     },
     "output_type": "display_data"
    }
   ],
   "source": [
    "# prediction example\n",
    "base_path = 'D:/VUT_FSI/Magister/00_Diplomka/SegNet-Tensorflow/dataset/photo_7678//311.jpg'\n",
    "img = load_img(base_path, target_size=MASK_SIZE, color_mode='rgb')\n",
    "img = img_to_array(img)\n",
    "\n",
    "img = np.expand_dims(tf.convert_to_tensor(img)/255, 0)\n",
    "\n",
    "pred_img1 = model.predict(img)\n",
    "    \n",
    "fig = plt.figure(figsize=(15, 15), dpi=80)\n",
    "plt.imshow(np.argmax(pred_img1[0,:,:,:], axis=-1), cmap='gray')\n",
    "plt.axis('off')"
   ]
  },
  {
   "cell_type": "code",
   "execution_count": 108,
   "id": "97de7577",
   "metadata": {
    "collapsed": true
   },
   "outputs": [
    {
     "data": {
      "text/plain": [
       "<matplotlib.image.AxesImage at 0x1e5980fc448>"
      ]
     },
     "execution_count": 108,
     "metadata": {},
     "output_type": "execute_result"
    },
    {
     "data": {
      "image/png": "[encoded data removed]",
      "text/plain": [
       "<Figure size 432x288 with 1 Axes>"
      ]
     },
     "metadata": {
      "needs_background": "light"
     },
     "output_type": "display_data"
    }
   ],
   "source": [
    "# mask example\n",
    "base_path = \"D://okk/mask_1d//60.png\"\n",
    "mask = load_img(base_path, target_size=MASK_SIZE, color_mode='rgb')\n",
    "mask2 = img_to_array(mask)[:,:,0]\n",
    "plt.imshow(mask2)"
   ]
  },
  {
   "cell_type": "code",
   "execution_count": 93,
   "id": "c5e59f27",
   "metadata": {},
   "outputs": [
    {
     "data": {
      "text/plain": [
       "(-0.5, 599.5, 335.5, -0.5)"
      ]
     },
     "execution_count": 93,
     "metadata": {},
     "output_type": "execute_result"
    },
    {
     "data": {
      "image/png": "[encoded data removed]",
      "text/plain": [
       "<Figure size 432x288 with 1 Axes>"
      ]
     },
     "metadata": {
      "needs_background": "light"
     },
     "output_type": "display_data"
    }
   ],
   "source": [
    "# predicstion example\n",
    "plt.imshow(np.argmax(out[0,:,:,:], axis=-1))\n",
    "plt.axis('off')"
   ]
  }
 ],
 "metadata": {
  "kernelspec": {
   "display_name": "Python 3",
   "language": "python",
   "name": "python3"
  },
  "language_info": {
   "codemirror_mode": {
    "name": "ipython",
    "version": 3
   },
   "file_extension": ".py",
   "mimetype": "text/x-python",
   "name": "python",
   "nbconvert_exporter": "python",
   "pygments_lexer": "ipython3",
   "version": "3.7.9"
  }
 },
 "nbformat": 4,
 "nbformat_minor": 5
}
