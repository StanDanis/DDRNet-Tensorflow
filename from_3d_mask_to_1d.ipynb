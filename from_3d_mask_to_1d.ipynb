{
 "cells": [
  {
   "cell_type": "code",
   "execution_count": 86,
   "id": "6ca972d1",
   "metadata": {},
   "outputs": [],
   "source": [
    "import matplotlib.pyplot as plt\n",
    "import matplotlib.image as mpimg\n",
    "import tensorflow as tf\n",
    "from  tensorflow import keras\n",
    "import numpy as np\n",
    "from tensorflow.keras.preprocessing.image import load_img, img_to_array\n",
    "from tensorflow.keras import layers\n",
    "import random\n",
    "import os\n",
    "from Utility import load_lable, process_mask"
   ]
  },
  {
   "cell_type": "code",
   "execution_count": 88,
   "id": "e253922c",
   "metadata": {},
   "outputs": [],
   "source": [
    "base_path = \"D:\\\\okk\\\\\"\n",
    "path_lable = f\"{base_path}labelmap.txt\"\n",
    "\n",
    "path_mask = f'{base_path}SegmentationClass'\n",
    "path_mask2 = f'{base_path}mask_1d'\n",
    "\n",
    "path_img = 'C:\\\\Users\\\\danis\\Desktop\\\\img'\n",
    "# video = {1:'IMG_7677.MOV', 2:'IMG_7678.MOV', 3:'IMG_7679.MOV'}\n",
    "# folder = {1:'photo_7677', 2:'photo_7678', 3:'photo_7679'}"
   ]
  },
  {
   "cell_type": "code",
   "execution_count": 96,
   "id": "d825f56d",
   "metadata": {
    "scrolled": false
   },
   "outputs": [],
   "source": [
    "# edit RGB mask- in output img is one pixel represent as one number\n",
    "\n",
    "for count, filename in enumerate(os.listdir(path_mask)):\n",
    "    \n",
    "    img2 = mpimg.imread(f'{path_mask}\\\\{filename}') * 255\n",
    "    \n",
    "    processed_mask = process_mask(img2, color_map)\n",
    "    grayscale_mask = np.argmax(processed_mask, axis=-1)\n",
    "    grayscale_mask = (grayscale_mask / len(color_map)) * 255\n",
    "    grayscale_mask = np.expand_dims(grayscale_mask, axis=-1)\n",
    "    \n",
    "    name = f'{path_mask2}\\\\{filename}'\n",
    "    grayscale_mask = np.concatenate([grayscale_mask, grayscale_mask, grayscale_mask], axis=-1).astype(np.uint8)\n",
    "    plt.imsave(name, grayscale_mask)\n",
    "\n",
    "#     plt.imshow(grayscale_mask[:,:,0])\n",
    "#     plt.axis('off')\n",
    "    \n",
    "#     print((np.shape(grayscale_mask)))\n",
    "#     print(name)\n",
    "    \n",
    "#     print((np.shape(grayscale_mask)))\n",
    "#     print((((np.unique(grayscale_mask))/1)*1))\n",
    "#     img = Image.fromarray(grayscale_mask[:,:,0])\n",
    "#     img.save(name)\n",
    "    \n",
    "\n",
    "#     plt.savefig(name)\n",
    "\n",
    "#     line = np.ones((320, 5, 3)) * 255\n",
    "#     cat_images = np.concatenate([\n",
    "#             img, line, img2, line,\n",
    "#             np.concatenate([grayscale_mask, grayscale_mask, grayscale_mask], axis=-1)\n",
    "#         ], axis=1)\n",
    "        \n",
    "#     plt.imsave(name, cat_images)    \n",
    "    \n",
    "#     break"
   ]
  },
  {
   "cell_type": "code",
   "execution_count": 92,
   "id": "21a12698",
   "metadata": {},
   "outputs": [
    {
     "name": "stdout",
     "output_type": "stream",
     "text": [
      "[0.         0.08235294 0.41568628 0.5803922  0.6666667  0.9137255 ]\n",
      "[ 0.  1.  5.  7.  8. 11.]\n"
     ]
    }
   ],
   "source": [
    "img = ((mpimg.imread(f'{path_mask2}\\\\100.png')[:,:,0]))\n",
    "print(np.unique(img))\n",
    "print((np.round((np.unique(img))*12)))"
   ]
  },
  {
   "cell_type": "code",
   "execution_count": 94,
   "id": "ff7f2b61",
   "metadata": {},
   "outputs": [],
   "source": [
    "k = load_img(f'{path_mask2}\\\\100.png', color_mode=\"grayscale\")"
   ]
  },
  {
   "cell_type": "code",
   "execution_count": 95,
   "id": "43665f9c",
   "metadata": {},
   "outputs": [
    {
     "data": {
      "text/plain": [
       "array([ 0.,  1.,  5.,  7.,  8., 11.], dtype=float32)"
      ]
     },
     "execution_count": 95,
     "metadata": {},
     "output_type": "execute_result"
    }
   ],
   "source": [
    "img = np.round((img_to_array(k)/255)*12)\n",
    "# k = np.round(((k)/255)*12)\n",
    "(np.unique(img))"
   ]
  }
 ],
 "metadata": {
  "kernelspec": {
   "display_name": "Python 3",
   "language": "python",
   "name": "python3"
  },
  "language_info": {
   "codemirror_mode": {
    "name": "ipython",
    "version": 3
   },
   "file_extension": ".py",
   "mimetype": "text/x-python",
   "name": "python",
   "nbconvert_exporter": "python",
   "pygments_lexer": "ipython3",
   "version": "3.7.9"
  }
 },
 "nbformat": 4,
 "nbformat_minor": 5
}
