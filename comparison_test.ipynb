{
 "cells": [
  {
   "cell_type": "code",
   "execution_count": 1,
   "id": "15a9cf63",
   "metadata": {},
   "outputs": [],
   "source": [
    "from ddrnet_23_slim import DualResNet as DualResNet_tens\n",
    "from DDRNet_23_slim_official import DualResNet_imagenet_off\n",
    "from pretrained_model_mapping import set_weight\n",
    "from comparison_test import test\n",
    "import torch\n",
    "import numpy as np\n",
    "import keras\n",
    "import tensorflow as tf\n",
    "from comparison_test import test"
   ]
  },
  {
   "cell_type": "code",
   "execution_count": 2,
   "id": "371d1fba",
   "metadata": {},
   "outputs": [],
   "source": [
    "net = DualResNet_imagenet_off(pretrained=True)\n",
    "weight_net = net.state_dict()\n",
    "torch_model = net.eval()"
   ]
  },
  {
   "cell_type": "code",
   "execution_count": 3,
   "id": "f4ec69e8",
   "metadata": {},
   "outputs": [],
   "source": [
    "model= DualResNet_tens((224, 224, 3), 3, 19, comparison_test=True)\n",
    "set_weight(model, path='DDRNet23s_imagenet.pth', \n",
    "           test=True, random_weight=weight_net)"
   ]
  },
  {
   "cell_type": "code",
   "execution_count": 4,
   "id": "05a7d6ad",
   "metadata": {},
   "outputs": [],
   "source": [
    "torch_model = torch_model.eval()\n",
    "  \n",
    "torch_inputs = torch.Tensor(np.random.rand(3, 3, 224, 224))\n",
    "\n",
    "tf_inputs = np.transpose(torch_inputs.numpy(), (0, 2, 3, 1))\n",
    "with torch.no_grad():\n",
    "    torch_output = torch_model(torch_inputs)\n",
    "\n",
    "tf_output = model.predict(tf_inputs)"
   ]
  },
  {
   "cell_type": "code",
   "execution_count": 7,
   "id": "30a4abcb",
   "metadata": {
    "scrolled": true
   },
   "outputs": [
    {
     "name": "stdout",
     "output_type": "stream",
     "text": [
      "Max difference in conv1 is :8.344650268554688e-07 and avg is: 4.667001363145573e-08\n",
      "Max difference in layer1 is :2.205371856689453e-06 and avg is: 2.2077107075801905e-07\n",
      "Max difference in layer2 is :3.0994415283203125e-06 and avg is: 2.6852509904529143e-07\n",
      "Max difference in layer3 is :2.6673078536987305e-06 and avg is: 2.0302159953189403e-07\n",
      "Max difference in layer3_ is :4.023313522338867e-06 and avg is: 4.412904957007413e-07\n",
      "Max difference in down3 is :3.069639205932617e-06 and avg is: 1.400932774231478e-07\n",
      "Max difference in copression3 is :4.291534423828125e-06 and avg is: 3.81513984848425e-07\n",
      "Max difference in layer4 is :3.069639205932617e-06 and avg is: 2.8606498858607665e-07\n",
      "Max difference in layer4_ is :5.4836273193359375e-06 and avg is: 5.333071726454364e-07\n",
      "Max difference in down4 is :2.041459083557129e-06 and avg is: 1.5110937567897054e-07\n",
      "Max difference in compression4 is :5.9604644775390625e-06 and avg is: 4.781316533808422e-07\n",
      "Max difference in layer5_ is :3.6954879760742188e-06 and avg is: 3.7951781450829003e-07\n",
      "Max difference in layer5 is :1.519918441772461e-06 and avg is: 2.572395771949232e-07\n",
      "Max difference in spp0 is :6.4373016357421875e-06 and avg is: 1.3139384691385203e-06\n",
      "Max difference in spp is :6.4373016357421875e-06 and avg is: 1.085160874936264e-06\n",
      "Max difference in final_layer is :1.5497207641601562e-05 and avg is: 2.417345513094915e-06\n"
     ]
    }
   ],
   "source": [
    "res = []\n",
    "for i in range(16):\n",
    "\n",
    "        res.append(test(torch_output, tf_output, i))"
   ]
  },
  {
   "cell_type": "code",
   "execution_count": 9,
   "id": "50d635a8",
   "metadata": {},
   "outputs": [
    {
     "data": {
      "text/plain": [
       "segmenthead(\n",
       "  (bn1): BatchNorm2d(128, eps=1e-05, momentum=0.1, affine=True, track_running_stats=True)\n",
       "  (conv1): Conv2d(128, 64, kernel_size=(3, 3), stride=(1, 1), padding=(1, 1), bias=False)\n",
       "  (bn2): BatchNorm2d(64, eps=1e-05, momentum=0.1, affine=True, track_running_stats=True)\n",
       "  (relu): ReLU(inplace=True)\n",
       "  (conv2): Conv2d(64, 19, kernel_size=(1, 1), stride=(1, 1))\n",
       ")"
      ]
     },
     "execution_count": 9,
     "metadata": {},
     "output_type": "execute_result"
    }
   ],
   "source": [
    "net.final_layer"
   ]
  },
  {
   "cell_type": "code",
   "execution_count": 8,
   "id": "331049ea",
   "metadata": {},
   "outputs": [
    {
     "data": {
      "image/png": "[encoded data removed]",
      "text/plain": [
       "<Figure size 432x288 with 1 Axes>"
      ]
     },
     "metadata": {
      "needs_background": "light"
     },
     "output_type": "display_data"
    }
   ],
   "source": [
    "import matplotlib.pyplot as plt\n",
    "plt.plot(res)\n",
    "plt.ylabel('some numbers')\n",
    "plt.show()"
   ]
  },
  {
   "cell_type": "code",
   "execution_count": null,
   "id": "eb540538",
   "metadata": {},
   "outputs": [],
   "source": []
  }
 ],
 "metadata": {
  "kernelspec": {
   "display_name": "Python 3",
   "language": "python",
   "name": "python3"
  },
  "language_info": {
   "codemirror_mode": {
    "name": "ipython",
    "version": 3
   },
   "file_extension": ".py",
   "mimetype": "text/x-python",
   "name": "python",
   "nbconvert_exporter": "python",
   "pygments_lexer": "ipython3",
   "version": "3.7.9"
  }
 },
 "nbformat": 4,
 "nbformat_minor": 5
}
